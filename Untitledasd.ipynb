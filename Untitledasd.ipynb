{
 "cells": [
  {
   "cell_type": "code",
   "execution_count": 7,
   "id": "f897aec4-a097-4826-9d7c-b340f0734051",
   "metadata": {},
   "outputs": [
    {
     "data": {
      "image/png": "[encoded data removed]",
      "text/plain": [
       "<Figure size 432x288 with 1 Axes>"
      ]
     },
     "metadata": {
      "needs_background": "light"
     },
     "output_type": "display_data"
    }
   ],
   "source": [
    "from sympy import symbols, diff, Eq, solve\n",
    "import numpy as np\n",
    "import matplotlib.pyplot as plt\n",
    "\n",
    "x = np.array([1, 1.5, 2, 3, 3.5, 4, 5, 8])\n",
    "y = np.array([2.2, 2.5, 3.2, 3.6, 4.1, 4.5, 4.5, 6])\n",
    "\n",
    "a, b, c = symbols('a, b, c')\n",
    "\n",
    "def f(a, b, c, x):\n",
    "    return a + b * x + c / x\n",
    " \n",
    "def phi(a, b, c):\n",
    "    sum_of_squares = 0\n",
    "    for i in range(x.size):\n",
    "        sum_of_squares += (f(a, b, c, x[i]) - y[i]) ** 2\n",
    "    return sum_of_squares\n",
    "\n",
    "equations = [Eq(diff(phi(a, b, c), a), 0),\n",
    "             Eq(diff(phi(a, b, c), b), 0),\n",
    "             Eq(diff(phi(a, b, c), c), 0)]\n",
    "\n",
    "sol = solve(equations)\n",
    "\n",
    "x_axis = np.linspace(min(x), max(x), 100)\n",
    "plt.scatter(x, y)\n",
    "plt.plot(x_axis, f(sol[a], sol[b], sol[c], x_axis), 'red')\n",
    "plt.show()"
   ]
  },
  {
   "cell_type": "code",
   "execution_count": 25,
   "id": "315b8b2b-79b5-4603-9127-1c5edbb4ed5b",
   "metadata": {},
   "outputs": [
    {
     "name": "stdout",
     "output_type": "stream",
     "text": [
      "1.9629727607543526\n",
      "1.9629727607543526\n"
     ]
    }
   ],
   "source": [
    "from sympy import symbols, diff, Eq, solve, integrate\n",
    "import numpy as np\n",
    "import matplotlib.pyplot as plt\n",
    "\n",
    "def f(x):\n",
    "    return np.e ** x * np.cos(x)\n",
    "\n",
    "def gauss_legendre_2_nodes(g):\n",
    "    return g(-np.sqrt(3) / 3) + g(np.sqrt(3) / 3)\n",
    "    \n",
    "print(gauss_legendre_2_nodes(f))\n",
    "\n",
    "\n",
    "A1 = 1.0\n",
    "A2 = 1.0\n",
    "x1 = -np.sqrt(3)/3\n",
    "x2 = np.sqrt(3)/3\n",
    "\n",
    "result = A1 * f(x1) + A2 * f(x2)\n",
    "print(result)"
   ]
  },
  {
   "cell_type": "code",
   "execution_count": 27,
   "id": "4b20b1b9-436a-4395-978a-c059ce07b636",
   "metadata": {},
   "outputs": [
    {
     "name": "stdout",
     "output_type": "stream",
     "text": [
      "1.9629727607543526\n",
      "1.9629727607543526\n"
     ]
    }
   ],
   "source": [
    "from sympy import symbols, diff, Eq, solve, integrate\n",
    "import numpy as np\n",
    "import matplotlib.pyplot as plt\n",
    "\n",
    "def f(x):\n",
    "    return np.e ** x * np.cos(x)\n",
    "\n",
    "def gauss_legendre_2_nodes(g):\n",
    "    return g(-np.sqrt(3) / 3) + g(np.sqrt(3) / 3)\n",
    "    \n",
    "print(gauss_legendre_2_nodes(f))\n",
    "\n",
    "\n",
    "A1 = 1.0\n",
    "A2 = 1.0\n",
    "x1 = -np.sqrt(3)/3\n",
    "x2 = np.sqrt(3)/3\n",
    "\n",
    "result = A1 * f(x1) + A2 * f(x2)\n",
    "print(result)"
   ]
  },
  {
   "cell_type": "code",
   "execution_count": 27,
   "id": "832d9d97-24a5-41ec-ad14-fb63ce0649e0",
   "metadata": {},
   "outputs": [
    {
     "name": "stdout",
     "output_type": "stream",
     "text": [
      "1.9629727607543526\n",
      "1.9629727607543526\n"
     ]
    }
   ],
   "source": [
    "from sympy import symbols, diff, Eq, solve, integrate\n",
    "import numpy as np\n",
    "import matplotlib.pyplot as plt\n",
    "\n",
    "def f(x):\n",
    "    return np.e ** x * np.cos(x)\n",
    "\n",
    "def gauss_legendre_2_nodes(g):\n",
    "    return g(-np.sqrt(3) / 3) + g(np.sqrt(3) / 3)\n",
    "    \n",
    "print(gauss_legendre_2_nodes(f))\n",
    "\n",
    "\n",
    "A1 = 1.0\n",
    "A2 = 1.0\n",
    "x1 = -np.sqrt(3)/3\n",
    "x2 = np.sqrt(3)/3\n",
    "\n",
    "result = A1 * f(x1) + A2 * f(x2)\n",
    "print(result)"
   ]
  }
 ],
 "metadata": {
  "kernelspec": {
   "display_name": "anaconda-2022.05-py39",
   "language": "python",
   "name": "conda-env-anaconda-2022.05-py39-py"
  },
  "language_info": {
   "codemirror_mode": {
    "name": "ipython",
    "version": 3
   },
   "file_extension": ".py",
   "mimetype": "text/x-python",
   "name": "python",
   "nbconvert_exporter": "python",
   "pygments_lexer": "ipython3",
   "version": "3.9.12"
  }
 },
 "nbformat": 4,
 "nbformat_minor": 5
}
